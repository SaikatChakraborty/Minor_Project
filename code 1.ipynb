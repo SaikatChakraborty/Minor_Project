{
 "cells": [
  {
   "cell_type": "markdown",
   "metadata": {},
   "source": [
    "# Importing required library"
   ]
  },
  {
   "cell_type": "code",
   "execution_count": 1,
   "metadata": {},
   "outputs": [
    {
     "name": "stderr",
     "output_type": "stream",
     "text": [
      "Using TensorFlow backend.\n"
     ]
    }
   ],
   "source": [
    "import keras\n",
    "from keras.models import Sequential\n",
    "from keras.layers import Convolution2D\n",
    "from keras.layers import MaxPooling2D\n",
    "from keras.layers import Flatten\n",
    "from keras.layers import Dense\n",
    "from keras.layers import Dropout"
   ]
  },
  {
   "cell_type": "code",
   "execution_count": 2,
   "metadata": {},
   "outputs": [],
   "source": [
    "# initalization CNN model\n",
    "model=Sequential()"
   ]
  },
  {
   "cell_type": "code",
   "execution_count": 3,
   "metadata": {},
   "outputs": [
    {
     "name": "stderr",
     "output_type": "stream",
     "text": [
      "D:\\Python\\Software\\Anaconda_new1\\lib\\site-packages\\ipykernel_launcher.py:2: UserWarning: Update your `Conv2D` call to the Keras 2 API: `Conv2D(32, (3, 3), activation=\"relu\", input_shape=(225, 225,...)`\n",
      "  \n"
     ]
    }
   ],
   "source": [
    "# adding convolutional layer\n",
    "model.add(Convolution2D(32,3,3,activation='relu',input_shape=(225, 225, 3)))"
   ]
  },
  {
   "cell_type": "code",
   "execution_count": 4,
   "metadata": {},
   "outputs": [],
   "source": [
    "# adding maxpooling layer\n",
    "model.add(MaxPooling2D(pool_size=(2,2)))"
   ]
  },
  {
   "cell_type": "code",
   "execution_count": 5,
   "metadata": {},
   "outputs": [],
   "source": [
    "# flatten the resultant matrix\n",
    "model.add(Flatten())"
   ]
  },
  {
   "cell_type": "markdown",
   "metadata": {},
   "source": [
    "feeding the resultant flatten matrix into the dense fully connected layer"
   ]
  },
  {
   "cell_type": "code",
   "execution_count": 6,
   "metadata": {},
   "outputs": [],
   "source": [
    "# first input layer\n",
    "model.add(Dense(128,activation='relu',kernel_initializer='normal'))\n",
    "# output layer\n",
    "model.add(Dense(1,activation='sigmoid')) # as this is image classification problem so the output layer having sigmoid activation \n",
    "# function which will give output 0,1"
   ]
  },
  {
   "cell_type": "code",
   "execution_count": 7,
   "metadata": {},
   "outputs": [],
   "source": [
    "# compiling the model\n",
    "model.compile(optimizer='adam',loss='binary_crossentropy',metrics=['accuracy'])"
   ]
  },
  {
   "cell_type": "code",
   "execution_count": 8,
   "metadata": {},
   "outputs": [],
   "source": [
    "from keras.preprocessing.image import ImageDataGenerator"
   ]
  },
  {
   "cell_type": "code",
   "execution_count": 9,
   "metadata": {},
   "outputs": [],
   "source": [
    "train_gen=ImageDataGenerator(rescale=1./255,shear_range=0.2,zoom_range=0.2,horizontal_flip=True)"
   ]
  },
  {
   "cell_type": "code",
   "execution_count": 10,
   "metadata": {},
   "outputs": [],
   "source": [
    "test_gen=ImageDataGenerator(rescale=1./255)"
   ]
  },
  {
   "cell_type": "code",
   "execution_count": 11,
   "metadata": {},
   "outputs": [
    {
     "name": "stdout",
     "output_type": "stream",
     "text": [
      "Found 253 images belonging to 2 classes.\n"
     ]
    }
   ],
   "source": [
    "train_image=train_gen.flow_from_directory(\"D:\\\\Minor project college\\\\Datasets\\\\brain_tumor_dataset\",target_size=(225, 225),batch_size=32,class_mode='binary')"
   ]
  },
  {
   "cell_type": "code",
   "execution_count": 12,
   "metadata": {},
   "outputs": [
    {
     "name": "stdout",
     "output_type": "stream",
     "text": [
      "Found 60 images belonging to 2 classes.\n"
     ]
    }
   ],
   "source": [
    "test_image=test_gen.flow_from_directory(\"D:\\\\Minor project college\\\\Datasets\\\\test_data\",target_size=(225,225),batch_size=32,class_mode='binary')"
   ]
  },
  {
   "cell_type": "code",
   "execution_count": 13,
   "metadata": {},
   "outputs": [
    {
     "name": "stdout",
     "output_type": "stream",
     "text": [
      "Epoch 1/1\n",
      "253/253 [==============================] - 320s 1s/step - loss: 0.8917 - accuracy: 0.7966 - val_loss: 0.1986 - val_accuracy: 0.9500\n"
     ]
    },
    {
     "data": {
      "text/plain": [
       "<keras.callbacks.callbacks.History at 0x1b57604a1d0>"
      ]
     },
     "execution_count": 13,
     "metadata": {},
     "output_type": "execute_result"
    }
   ],
   "source": [
    "model.fit_generator(train_image,steps_per_epoch=253,epochs=1, validation_data=test_image, validation_steps=60)"
   ]
  },
  {
   "cell_type": "code",
   "execution_count": 14,
   "metadata": {},
   "outputs": [],
   "source": [
    "from keras.preprocessing import image\n",
    "import numpy as np"
   ]
  },
  {
   "cell_type": "code",
   "execution_count": 18,
   "metadata": {},
   "outputs": [],
   "source": [
    "sample_img=image.load_img(\"D:\\\\Minor project college\\\\Datasets\\\\no\\\\Y4.jpg\",target_size=(225,225))"
   ]
  },
  {
   "cell_type": "code",
   "execution_count": 19,
   "metadata": {},
   "outputs": [],
   "source": [
    "img=image.img_to_array(sample_img)"
   ]
  },
  {
   "cell_type": "code",
   "execution_count": 20,
   "metadata": {},
   "outputs": [
    {
     "name": "stdout",
     "output_type": "stream",
     "text": [
      "[[[190. 190. 190.]\n",
      "  [110. 110. 110.]\n",
      "  [137. 137. 137.]\n",
      "  ...\n",
      "  [129. 129. 129.]\n",
      "  [129. 129. 129.]\n",
      "  [174. 174. 174.]]\n",
      "\n",
      " [[108. 108. 108.]\n",
      "  [  5.   5.   5.]\n",
      "  [ 11.  11.  11.]\n",
      "  ...\n",
      "  [  1.   1.   1.]\n",
      "  [  1.   1.   1.]\n",
      "  [125. 125. 125.]]\n",
      "\n",
      " [[139. 139. 139.]\n",
      "  [  9.   9.   9.]\n",
      "  [  0.   0.   0.]\n",
      "  ...\n",
      "  [  1.   1.   1.]\n",
      "  [  1.   1.   1.]\n",
      "  [131. 131. 131.]]\n",
      "\n",
      " ...\n",
      "\n",
      " [[127. 127. 127.]\n",
      "  [  2.   2.   2.]\n",
      "  [  4.   4.   4.]\n",
      "  ...\n",
      "  [  0.   0.   0.]\n",
      "  [  0.   0.   0.]\n",
      "  [130. 130. 130.]]\n",
      "\n",
      " [[127. 127. 127.]\n",
      "  [  2.   2.   2.]\n",
      "  [  4.   4.   4.]\n",
      "  ...\n",
      "  [  0.   0.   0.]\n",
      "  [  0.   0.   0.]\n",
      "  [130. 130. 130.]]\n",
      "\n",
      " [[137. 137. 137.]\n",
      "  [ 42.  42.  42.]\n",
      "  [ 51.  51.  51.]\n",
      "  ...\n",
      "  [ 49.  49.  49.]\n",
      "  [ 48.  48.  48.]\n",
      "  [138. 138. 138.]]]\n"
     ]
    }
   ],
   "source": [
    "print(img)"
   ]
  },
  {
   "cell_type": "code",
   "execution_count": 21,
   "metadata": {},
   "outputs": [],
   "source": [
    "img=np.expand_dims(img,axis=0) # reshaping the image"
   ]
  },
  {
   "cell_type": "code",
   "execution_count": 22,
   "metadata": {},
   "outputs": [
    {
     "name": "stdout",
     "output_type": "stream",
     "text": [
      "[[[[190. 190. 190.]\n",
      "   [110. 110. 110.]\n",
      "   [137. 137. 137.]\n",
      "   ...\n",
      "   [129. 129. 129.]\n",
      "   [129. 129. 129.]\n",
      "   [174. 174. 174.]]\n",
      "\n",
      "  [[108. 108. 108.]\n",
      "   [  5.   5.   5.]\n",
      "   [ 11.  11.  11.]\n",
      "   ...\n",
      "   [  1.   1.   1.]\n",
      "   [  1.   1.   1.]\n",
      "   [125. 125. 125.]]\n",
      "\n",
      "  [[139. 139. 139.]\n",
      "   [  9.   9.   9.]\n",
      "   [  0.   0.   0.]\n",
      "   ...\n",
      "   [  1.   1.   1.]\n",
      "   [  1.   1.   1.]\n",
      "   [131. 131. 131.]]\n",
      "\n",
      "  ...\n",
      "\n",
      "  [[127. 127. 127.]\n",
      "   [  2.   2.   2.]\n",
      "   [  4.   4.   4.]\n",
      "   ...\n",
      "   [  0.   0.   0.]\n",
      "   [  0.   0.   0.]\n",
      "   [130. 130. 130.]]\n",
      "\n",
      "  [[127. 127. 127.]\n",
      "   [  2.   2.   2.]\n",
      "   [  4.   4.   4.]\n",
      "   ...\n",
      "   [  0.   0.   0.]\n",
      "   [  0.   0.   0.]\n",
      "   [130. 130. 130.]]\n",
      "\n",
      "  [[137. 137. 137.]\n",
      "   [ 42.  42.  42.]\n",
      "   [ 51.  51.  51.]\n",
      "   ...\n",
      "   [ 49.  49.  49.]\n",
      "   [ 48.  48.  48.]\n",
      "   [138. 138. 138.]]]]\n"
     ]
    }
   ],
   "source": [
    "print(img)"
   ]
  },
  {
   "cell_type": "code",
   "execution_count": 27,
   "metadata": {},
   "outputs": [],
   "source": [
    "prediction=model.predict(img)"
   ]
  },
  {
   "cell_type": "code",
   "execution_count": 28,
   "metadata": {},
   "outputs": [
    {
     "data": {
      "text/plain": [
       "array([[1.]], dtype=float32)"
      ]
     },
     "execution_count": 28,
     "metadata": {},
     "output_type": "execute_result"
    }
   ],
   "source": [
    "prediction"
   ]
  },
  {
   "cell_type": "code",
   "execution_count": 29,
   "metadata": {},
   "outputs": [
    {
     "data": {
      "text/plain": [
       "{'no': 0, 'yes': 1}"
      ]
     },
     "execution_count": 29,
     "metadata": {},
     "output_type": "execute_result"
    }
   ],
   "source": [
    "train_image.class_indices"
   ]
  },
  {
   "cell_type": "code",
   "execution_count": 30,
   "metadata": {},
   "outputs": [
    {
     "name": "stdout",
     "output_type": "stream",
     "text": [
      "brain tumor detected\n"
     ]
    }
   ],
   "source": [
    "if prediction[0]==1:\n",
    "    print(\"brain tumor detected\")\n",
    "else:\n",
    "    print(\"not found\")"
   ]
  },
  {
   "cell_type": "code",
   "execution_count": 41,
   "metadata": {},
   "outputs": [],
   "source": [
    "import os"
   ]
  },
  {
   "cell_type": "code",
   "execution_count": 45,
   "metadata": {},
   "outputs": [],
   "source": [
    "output_path=\"D:\\\\Minor project college\\\\Image Found\"\n",
    "dir=\"D:\\\\Minor project college\\\\Datasets\\\\no\\\\Y4.jpg\""
   ]
  },
  {
   "cell_type": "code",
   "execution_count": 47,
   "metadata": {},
   "outputs": [],
   "source": [
    "if(prediction[0]==1):\n",
    "    listdir(output_path)"
   ]
  },
  {
   "cell_type": "code",
   "execution_count": 46,
   "metadata": {},
   "outputs": [],
   "source": [
    "def listdir(dir):\n",
    "    filename=os.listdir(dir)\n",
    "    for file in filename:\n",
    "        print('image found'+file)\n",
    "        print('folder path'+os.path.abspath(os.path.join(dir,file)),sep='\\n')"
   ]
  },
  {
   "cell_type": "code",
   "execution_count": null,
   "metadata": {},
   "outputs": [],
   "source": []
  }
 ],
 "metadata": {
  "kernelspec": {
   "display_name": "Python 3",
   "language": "python",
   "name": "python3"
  },
  "language_info": {
   "codemirror_mode": {
    "name": "ipython",
    "version": 3
   },
   "file_extension": ".py",
   "mimetype": "text/x-python",
   "name": "python",
   "nbconvert_exporter": "python",
   "pygments_lexer": "ipython3",
   "version": "3.7.3"
  }
 },
 "nbformat": 4,
 "nbformat_minor": 2
}
